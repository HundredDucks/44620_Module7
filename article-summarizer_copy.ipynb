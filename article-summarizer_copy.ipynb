{
 "cells": [
  {
   "cell_type": "markdown",
   "metadata": {},
   "source": [
    "# Web Mining and Applied NLP (44-620)\n",
    "\n",
    "## Final Project: Article Summarizer\n",
    "\n",
    "### Student Name: Zach Fuller\n",
    "\n",
    "Perform the tasks described in the Markdown cells below.  When you have completed the assignment make sure your code cells have all been run (and have output beneath them) and ensure you have committed and pushed ALL of your changes to your assignment repository.\n",
    "\n",
    "You should bring in code from previous assignments to help you answer the questions below.\n",
    "\n",
    "Every question that requires you to write code will have a code cell underneath it; you may either write your entire solution in that cell or write it in a python file (`.py`), then import and run the appropriate code to answer the question."
   ]
  },
  {
   "cell_type": "markdown",
   "metadata": {},
   "source": [
    "## GitHub Repo: https://github.com/HundredDucks/44620_Module7"
   ]
  },
  {
   "cell_type": "markdown",
   "metadata": {},
   "source": [
    "## Question 1"
   ]
  },
  {
   "cell_type": "markdown",
   "metadata": {},
   "source": [
    "1. Find on the internet an article or blog post about a topic that interests you and you are able to get the text for using the technologies we have applied in the course.  Get the html for the article and store it in a file (which you must submit with your project)"
   ]
  },
  {
   "cell_type": "code",
   "execution_count": 1,
   "metadata": {},
   "outputs": [],
   "source": [
    "#import modules needed for this assignment first\n",
    "import requests\n",
    "from bs4 import BeautifulSoup\n",
    "import pickle\n",
    "import spacy\n",
    "from spacytextblob.spacytextblob import SpacyTextBlob\n",
    "from collections import Counter\n",
    "import numpy as np\n",
    "import matplotlib as mpl\n",
    "import matplotlib.pyplot as plt"
   ]
  },
  {
   "cell_type": "code",
   "execution_count": 2,
   "metadata": {},
   "outputs": [],
   "source": [
    "r = requests.get('https://www.npr.org/2022/11/18/1137819206/twitter-shutting-down-likelihood')\n",
    "\n",
    "with open('twitter_article.pkl', 'wb') as f:\n",
    "    pickle.dump(r.text, f)"
   ]
  },
  {
   "cell_type": "markdown",
   "metadata": {},
   "source": [
    "## Question 2"
   ]
  },
  {
   "cell_type": "markdown",
   "metadata": {},
   "source": [
    "2. Read in your article's html source from the file you created in question 1 and do sentiment analysis on the article/post's text (use `.get_text()`).  Print the polarity score with an appropriate label.  Additionally print the number of sentences in the original article (with an appropriate label)"
   ]
  },
  {
   "cell_type": "code",
   "execution_count": 3,
   "metadata": {},
   "outputs": [],
   "source": [
    "with open('twitter_article.pkl', 'rb') as f:\n",
    "    article_html = pickle.load(f)"
   ]
  },
  {
   "cell_type": "code",
   "execution_count": 4,
   "metadata": {},
   "outputs": [],
   "source": [
    "soup = BeautifulSoup(article_html, 'html5lib')"
   ]
  },
  {
   "cell_type": "code",
   "execution_count": 5,
   "metadata": {},
   "outputs": [],
   "source": [
    "#searching for the id of \"storytext\" elimnated some of the extra content in the article that I didn't want at least\n",
    "#Is it possible to remove all of the lines of white space and the images and image text?\n",
    "article_content = soup.find(id=\"storytext\")"
   ]
  },
  {
   "cell_type": "code",
   "execution_count": 7,
   "metadata": {},
   "outputs": [
    {
     "name": "stdout",
     "output_type": "stream",
     "text": [
      "\n",
      "      \n",
      "            \n",
      "        \n",
      "            \n",
      "            \n",
      "            \n",
      "        \n",
      "        \n",
      "            Enlarge this image\n",
      "        \n",
      "\n",
      "\n",
      "    \n",
      "        \n",
      "            \n",
      "                The departures of thousands of Twitter workers is raising fears about the stability of the influential social media site under new owner Elon Musk.\n",
      "                \n",
      "                    \n",
      "                    NurPhoto/NurPhoto via Getty Images\n",
      "                    \n",
      "                \n",
      "                hide caption\n",
      "            \n",
      "        \n",
      "\n",
      "\n",
      "            toggle caption\n",
      "    \n",
      "\n",
      "    \n",
      "        \n",
      "        NurPhoto/NurPhoto via Getty Images\n",
      "        \n",
      "    \n",
      "\n",
      "\n",
      "    \n",
      "        \n",
      "            \n",
      "            \n",
      "            \n",
      "        \n",
      "    \n",
      "\n",
      "\n",
      "    \n",
      "        The departures of thousands of Twitter workers is raising fears about the stability of the influential social media site under new owner Elon Musk.\n",
      "        \n",
      "            \n",
      "            NurPhoto/NurPhoto via Getty Images\n",
      "            \n",
      "        \n",
      "    \n",
      "\n",
      "   \n",
      "   People are singing their last birdsongs on Twitter, as some brace for what they fear will be a final farewell to the platform whose workforce has shrunk dramatically in the few weeks it's been owned by billionaire Elon Musk.   While it's unlikely that Twitter will shut down entirely, departing employees are warning of service outages, glitches and safety risks.    \n",
      "            \n",
      "                           \n",
      "                        Untangling Disinformation \n",
      "            Twitter employees quit in droves after Elon Musk's ultimatum passes\n",
      "         \n",
      "         \n",
      "\n",
      "      \n",
      "      \n",
      "\n",
      "   \n",
      "   \n",
      "\n",
      "   Plus, there are concerns about the platform's capacity to handle traffic during big events, such as the World Cup kicking off this weekend.   On Thursday, more employees quit after Musk gave them an ultimatum: Either they sign on to a new \"hardcore\" era or leave with three months severance. The fresh departures came just two weeks after Musk laid off half of the company. He's also eliminated thousands of contractor jobs and fired some employees who criticized him publicly. Without cost cuts and increased revenue, he says, bankruptcy is possible.   Some former employees who chose not to sign onto Musk's new vision took to Twitter to explain their decisions.   \"I left because I no longer knew what I was staying for,\" Peter Clowes, a senior software engineer who resigned on Thursday, wrote in a thread. \"Previously I was staying for the people, the vision, and of course the money (lets all be honest). All of those were radically changed or uncertain.\"   \n",
      "    \n",
      "\n",
      "    \n",
      "\n",
      "\n",
      "   Clowes noted any employee who chose to remain would have had to sign away their option to take severance before seeing their offer, and without a clear picture of the future Musk has planned. He said of his team of 75 engineers, only three chose to stay.   \n",
      "            There was no vision shared with us. No 5 year plan like at Tesla. Nothing more than what anyone can see on Twitter. It allegedly is coming for those who stayed but the ask was blind faith and required signing away the severance offer before seeing it. Pure loyalty test.— Peter Clowes (@peterclowes) November 18, 2022 \n",
      "   \n",
      "   \n",
      "\n",
      "   Employees who were laid off in early November still have not received any communication from Twitter, aside from one note to their personal email addresses saying severance packages were going to take longer to arrive, according to a former employee who, like others, spoke to NPR on the condition of anonymity because they feared the loss of promised severance and retaliation from the company.   While the platform is still functioning, many warn features may deteriorate as the site is run by a threadbare team.   Users are preparing for a Twitter shutdown   Many users are encouraging each other to protect against an outage or breach by downloading their archives of data — including their tweets and follower lists. Yet the load that creates on Twitter's systems could become a tipping point, the former employee said.   They also worried about what might happen to Twitter's data centers without the workforce to monitor them sufficiently.    \"If a network cable gets disconnected, or if a hard drive gets filled up or if there's some minor power switch failure somewhere, there aren't enough people to deal with these situations,\" they said.   \n",
      "            \n",
      "                           \n",
      "                        Culture \n",
      "            Misinformation threatens Twitter's function as a public safety tool\n",
      "         \n",
      "         \n",
      "\n",
      "      \n",
      "      \n",
      "\n",
      "   \n",
      "   \n",
      "\n",
      "   Plus, there are safety and security concerns. Twitter saw a surge in racist and antisemitic tweets following Musk's takeover. Many of the staff and contractors who were laid off or resigned worked on teams curbing toxic and illegal content.   Musk framed his interest in buying Twitter in the first place as being about increasing free speech. He has previously criticized its policies against hate speech, harassment and misleading claims.   But he's hit a steep learning curve as Twitter's self-declared \"Chief Twit.\" Hours after closing the deal in late October, he tweeted, \"Comedy is now legal on Twitter.\" Then, when some users changed their names and photos to mimic his own, he changed his tune and declared, \"Going forward, any Twitter handles engaging in impersonation without clearly specifying 'parody' will be permanently suspended.\"   \n",
      "    \n",
      "\n",
      "    \n",
      "\n",
      "\n",
      "   Musk's habit of abruptly announcing changes and features, and just as quickly reversing them, has left staff feeling whiplashed — and in some cases, redundant.   \"A Twitter whose policies are defined by unilateral edict has little need for a trust and safety function dedicated to its principled development,\" Yoel Roth, the former head of trust and safety at Twitter who resigned earlier this month, wrote in a New York Times op-ed.   With security, engineering and content moderation teams gutted, the platform is also more vulnerable to hacks and abuse.   Twitter is a platform that is \"so complicated that truly nobody understands how it all works,\" another former employee said. \"The loss of the security organization is bad, the loss of all that institutional knowledge is worse.\"   NPR's Camila Domonoske contributed to this report.\n",
      "\n"
     ]
    }
   ],
   "source": [
    "print(article_content.get_text())"
   ]
  },
  {
   "cell_type": "code",
   "execution_count": 9,
   "metadata": {},
   "outputs": [
    {
     "data": {
      "text/plain": [
       "<spacytextblob.spacytextblob.SpacyTextBlob at 0x2482ab64f40>"
      ]
     },
     "execution_count": 9,
     "metadata": {},
     "output_type": "execute_result"
    }
   ],
   "source": [
    "nlp = spacy.load('en_core_web_sm')\n",
    "nlp.add_pipe('spacytextblob')"
   ]
  },
  {
   "cell_type": "code",
   "execution_count": 10,
   "metadata": {},
   "outputs": [
    {
     "name": "stdout",
     "output_type": "stream",
     "text": [
      "Sentiment Analysis: [(['social'], 0.03333333333333333, 0.06666666666666667, None), (['new'], 0.13636363636363635, 0.45454545454545453, None), (['social'], 0.03333333333333333, 0.06666666666666667, None), (['new'], 0.13636363636363635, 0.45454545454545453, None), (['last'], 0.0, 0.06666666666666667, None), (['final'], 0.0, 1.0, None), (['few'], -0.2, 0.1, None), (['unlikely'], -0.5, 0.5, None), (['down'], -0.15555555555555559, 0.2888888888888889, None), (['entirely'], 0.0, 0.625, None), (['big'], 0.0, 0.1, None), (['such'], 0.0, 0.5, None), (['more'], 0.5, 0.5, None), (['new'], 0.13636363636363635, 0.45454545454545453, None), (['fresh'], 0.3, 0.5, None), (['half'], -0.16666666666666666, 0.16666666666666666, None), (['publicly'], 0.0, 0.06666666666666667, None), (['possible'], 0.0, 1.0, None), (['former'], 0.0, 0.0, None), (['new'], 0.13636363636363635, 0.45454545454545453, None), (['left'], 0.0, 0.0, None), (['previously'], -0.16666666666666666, 0.16666666666666666, None), (['honest'], 0.6, 0.9, None), (['clear'], 0.10000000000000002, 0.3833333333333333, None), (['future'], 0.0, 0.125, None), (['only'], 0.0, 1.0, None), (['more'], 0.5, 0.5, None), (['allegedly'], -0.1, 0.1, None), (['blind'], -0.5, 0.6666666666666666, None), (['pure'], 0.21428571428571427, 0.5, None), (['early'], 0.1, 0.3, None), (['personal'], 0.0, 0.3, None), (['former'], 0.0, 0.0, None), (['many'], 0.5, 0.5, None), (['many'], 0.5, 0.5, None), (['other'], -0.125, 0.375, None), (['former'], 0.0, 0.0, None), (['hard'], -0.2916666666666667, 0.5416666666666666, None), (['filled'], 0.4, 0.9, None), (['minor'], -0.05, 0.2, None), (['failure'], -0.3166666666666667, 0.3, None), (['enough'], 0.0, 0.5, None), (['public'], 0.0, 0.06666666666666667, None), (['following'], 0.0, 0.1, None), (['many'], 0.5, 0.5, None), (['illegal'], -0.5, 0.5, None), (['first'], 0.25, 0.3333333333333333, None), (['free'], 0.4, 0.8, None), (['previously'], -0.16666666666666666, 0.16666666666666666, None), (['hate'], -0.8, 0.9, None), (['late'], -0.3, 0.6, None), (['legal'], 0.2, 0.2, None), (['own'], 0.6, 1.0, None), (['engaging'], 0.4, 0.7, None), (['clearly'], 0.10000000000000002, 0.3833333333333333, None), (['abruptly'], -0.125, 1.0, None), (['quickly'], 0.3333333333333333, 0.5, None), (['left'], 0.0, 0.0, None), (['redundant'], -0.2, 0.2, None), (['unilateral'], -0.5, 0.7, None), (['little'], -0.1875, 0.5, None), (['former'], 0.0, 0.0, None), (['earlier'], 0.0, 0.5, None), (['new'], 0.13636363636363635, 0.45454545454545453, None), (['more'], 0.5, 0.5, None), (['vulnerable'], -0.5, 0.5, None), (['complicated'], -0.5, 1.0, None), (['former'], 0.0, 0.0, None), (['bad'], -0.6999999999999998, 0.6666666666666666, None), (['worse'], -0.4, 0.6, None)]\n"
     ]
    }
   ],
   "source": [
    "doc = nlp(article_content.get_text())\n",
    "print(\"Sentiment Analysis:\", doc._.blob.sentiment_assessments.assessments)"
   ]
  },
  {
   "cell_type": "markdown",
   "metadata": {},
   "source": [
    "### Polarity Score"
   ]
  },
  {
   "cell_type": "code",
   "execution_count": 11,
   "metadata": {},
   "outputs": [
    {
     "name": "stdout",
     "output_type": "stream",
     "text": [
      "Polarity Score: 0.004210214388785822\n"
     ]
    }
   ],
   "source": [
    "print(\"Polarity Score:\", doc._.blob.polarity)"
   ]
  },
  {
   "cell_type": "markdown",
   "metadata": {},
   "source": [
    "### Number of Sentences"
   ]
  },
  {
   "cell_type": "code",
   "execution_count": 12,
   "metadata": {},
   "outputs": [
    {
     "name": "stdout",
     "output_type": "stream",
     "text": [
      "Number of Sentences: 45\n"
     ]
    }
   ],
   "source": [
    "#wasn't quite sure the best way to do this, so had to do some Googling. Came upon something similar to this, seemed to work well.\n",
    "sentence_tokens = [[token.text for token in sent] for sent in doc.sents]\n",
    "print(\"Number of Sentences:\", len(sentence_tokens))"
   ]
  },
  {
   "cell_type": "markdown",
   "metadata": {},
   "source": [
    "## Question 3"
   ]
  },
  {
   "cell_type": "markdown",
   "metadata": {},
   "source": [
    "3. Load the article text into a trained `spaCy` pipeline, and determine the 5 most frequent tokens (converted to lower case).  Print the common tokens with an appropriate label.  Additionally, print the tokens their frequencies (with appropriate labels)"
   ]
  },
  {
   "cell_type": "code",
   "execution_count": 13,
   "metadata": {},
   "outputs": [],
   "source": [
    "def we_care_about(token):\n",
    "    return not (token.is_space or token.is_punct or token.is_stop)"
   ]
  },
  {
   "cell_type": "code",
   "execution_count": 14,
   "metadata": {},
   "outputs": [
    {
     "name": "stdout",
     "output_type": "stream",
     "text": [
      "The 5 most common tokens are [('twitter', 20), ('musk', 11), ('nurphoto', 6), ('platform', 5), ('employees', 5)]\n"
     ]
    }
   ],
   "source": [
    "interesting_tokens = [token for token in doc if we_care_about(token)]\n",
    "word_freq = Counter(map(str,interesting_tokens))\n",
    "print(\"The 5 most common tokens are \" + str(word_freq.most_common(5)).lower())"
   ]
  },
  {
   "cell_type": "markdown",
   "metadata": {},
   "source": [
    "## Question 4"
   ]
  },
  {
   "cell_type": "markdown",
   "metadata": {},
   "source": [
    "4. Load the article text into a trained `spaCy` pipeline, and determine the 5 most frequent lemmas (converted to lower case).  Print the common lemmas with an appropriate label.  Additionally, print the lemmas with their frequencies (with appropriate labels)."
   ]
  },
  {
   "cell_type": "code",
   "execution_count": 15,
   "metadata": {},
   "outputs": [
    {
     "name": "stdout",
     "output_type": "stream",
     "text": [
      "The 5 most common lemmas and their counts are [('twitter', 20), ('musk', 11), ('employee', 10), ('nurphoto', 6), ('say', 6)]\n"
     ]
    }
   ],
   "source": [
    "interesting_lemmas = [token.lemma_.lower() for token in doc if we_care_about(token)]\n",
    "lemma_freq = Counter(interesting_lemmas)\n",
    "print(\"The 5 most common lemmas and their counts are \" + str(lemma_freq.most_common(5)))"
   ]
  },
  {
   "cell_type": "markdown",
   "metadata": {},
   "source": [
    "## Question 5"
   ]
  },
  {
   "cell_type": "markdown",
   "metadata": {},
   "source": [
    "5. Make a list containing the scores (using tokens) of every sentence in the article, and plot a histogram with appropriate titles and axis labels of the scores. From your histogram, what seems to be the most common range of scores (put the answer in a comment after your code)?"
   ]
  },
  {
   "cell_type": "code",
   "execution_count": 16,
   "metadata": {},
   "outputs": [
    {
     "name": "stdout",
     "output_type": "stream",
     "text": [
      "{'Twitter', 'employees', 'Musk', 'NurPhoto', 'platform'}\n"
     ]
    }
   ],
   "source": [
    "frequent_tokens = set()\n",
    "for token, freq in word_freq.most_common(5):\n",
    "    frequent_tokens.add(token)\n",
    "print(frequent_tokens)"
   ]
  },
  {
   "cell_type": "code",
   "execution_count": 17,
   "metadata": {},
   "outputs": [],
   "source": [
    "def token_list(sentence, interesting_token):\n",
    "    sentences = list(sentence.sents)\n",
    "    scores = list()\n",
    "    for sentence in sentences:\n",
    "        word_count_t = 0\n",
    "        count_t = 0\n",
    "        for word in sentence:\n",
    "            if not(word.is_space or word.is_punct):\n",
    "                word_count_t += 1\n",
    "        for token in sentence:\n",
    "            if token.lemma_.lower() in frequent_tokens:\n",
    "                count_t += 1\n",
    "        if count_t != 0:\n",
    "            token_score = count_t/word_count_t\n",
    "        else:\n",
    "            token_score = 0\n",
    "        scores.append(token_score)\n",
    "    return scores"
   ]
  },
  {
   "cell_type": "code",
   "execution_count": 18,
   "metadata": {},
   "outputs": [],
   "source": [
    "tokens_data = token_list(doc, frequent_tokens)"
   ]
  },
  {
   "cell_type": "code",
   "execution_count": 19,
   "metadata": {},
   "outputs": [
    {
     "data": {
      "text/plain": [
       "[Text(0.5, 0, 'Score'),\n",
       " Text(0, 0.5, 'Frequency'),\n",
       " Text(0.5, 1.0, 'Frequency of Token Scores per Sentence')]"
      ]
     },
     "execution_count": 19,
     "metadata": {},
     "output_type": "execute_result"
    },
    {
     "data": {
      "image/png": "[encoded data removed]",
      "text/plain": [
       "<Figure size 1080x648 with 1 Axes>"
      ]
     },
     "metadata": {
      "needs_background": "light"
     },
     "output_type": "display_data"
    }
   ],
   "source": [
    "fig, ax = plt.subplots(figsize=(15, 9))\n",
    "ax.hist(tokens_data, bins=25)\n",
    "ax.set(xlabel='Score', ylabel='Frequency', title='Frequency of Token Scores per Sentence')"
   ]
  },
  {
   "cell_type": "code",
   "execution_count": 20,
   "metadata": {},
   "outputs": [],
   "source": [
    "#The most common token score range seems to be about 0 - 0.0025"
   ]
  },
  {
   "cell_type": "markdown",
   "metadata": {},
   "source": [
    "## Question 6"
   ]
  },
  {
   "cell_type": "markdown",
   "metadata": {},
   "source": [
    "6. Make a list containing the scores (using lemmas) of every sentence in the article, and plot a histogram with appropriate titles and axis labels of the scores.  From your histogram, what seems to be the most common range of scores (put the answer in a comment after your code)?"
   ]
  },
  {
   "cell_type": "code",
   "execution_count": 21,
   "metadata": {},
   "outputs": [
    {
     "name": "stdout",
     "output_type": "stream",
     "text": [
      "{'nurphoto', 'employee', 'twitter', 'musk', 'say'}\n"
     ]
    }
   ],
   "source": [
    "frequent_lemmas = set()\n",
    "for lemma, freq in lemma_freq.most_common(5):\n",
    "    frequent_lemmas.add(lemma)\n",
    "print(frequent_lemmas)"
   ]
  },
  {
   "cell_type": "code",
   "execution_count": 22,
   "metadata": {},
   "outputs": [],
   "source": [
    "def lemma_list(sentence, interesting_lemmas):\n",
    "    sentences = list(sentence.sents)\n",
    "    scores = list()\n",
    "    for sentence in sentences:\n",
    "        word_count_l = 0\n",
    "        count_l = 0\n",
    "        for word in sentence:\n",
    "            if not(word.is_space or word.is_punct):\n",
    "                word_count_l += 1\n",
    "        for lemma in sentence:\n",
    "            if lemma.lemma_.lower() in frequent_lemmas:\n",
    "                count_l += 1\n",
    "        if count_l != 0:\n",
    "            lemma_score = count_l/word_count_l\n",
    "        else:\n",
    "            lemma_score = 0\n",
    "        scores.append(lemma_score)\n",
    "    return scores"
   ]
  },
  {
   "cell_type": "code",
   "execution_count": 23,
   "metadata": {},
   "outputs": [],
   "source": [
    "lemmas_data = lemma_list(doc, frequent_lemmas)"
   ]
  },
  {
   "cell_type": "code",
   "execution_count": 24,
   "metadata": {},
   "outputs": [
    {
     "data": {
      "text/plain": [
       "[Text(0.5, 0, 'Score'),\n",
       " Text(0, 0.5, 'Frequency'),\n",
       " Text(0.5, 1.0, 'Frequency of Lemma Scores per Sentence')]"
      ]
     },
     "execution_count": 24,
     "metadata": {},
     "output_type": "execute_result"
    },
    {
     "data": {
      "image/png": "[encoded data removed]",
      "text/plain": [
       "<Figure size 1080x648 with 1 Axes>"
      ]
     },
     "metadata": {
      "needs_background": "light"
     },
     "output_type": "display_data"
    }
   ],
   "source": [
    "fig, ax = plt.subplots(figsize=(15, 9))\n",
    "ax.hist(lemmas_data, bins=25)\n",
    "ax.set(xlabel='Score', ylabel='Frequency', title='Frequency of Lemma Scores per Sentence')"
   ]
  },
  {
   "cell_type": "code",
   "execution_count": 25,
   "metadata": {},
   "outputs": [],
   "source": [
    "#The most common score range seems to be about 0 - 0.005"
   ]
  },
  {
   "cell_type": "markdown",
   "metadata": {},
   "source": [
    "## Question 7"
   ]
  },
  {
   "cell_type": "markdown",
   "metadata": {},
   "source": [
    "7. Using the histograms from questions 5 and 6, decide a \"cutoff\" score for tokens and lemmas such that fewer than half the sentences would have a score greater than the cutoff score.  Record the scores in this Markdown cell\n",
    "\n",
    "* Cutoff Score (tokens): 0.0025\n",
    "* Cutoff Score (lemmas): I initially thought it would be around 0.005, but after working on question 10, I found 0.1 to be more suitable to give me an appropriate sentence count\n",
    "\n",
    "Feel free to change these scores as you generate your summaries.  Ideally, we're shooting for at least 6 sentences for our summary, but don't want more than 10 (these numbers are rough estimates; they depend on the length of your article)."
   ]
  },
  {
   "cell_type": "markdown",
   "metadata": {},
   "source": [
    "## Question 8"
   ]
  },
  {
   "cell_type": "markdown",
   "metadata": {},
   "source": [
    "8. Create a summary of the article by going through every sentence in the article and adding it to an (initially) empty list if its score (based on tokens) is greater than the cutoff score you identified in question 8.  If your loop variable is named `sent`, you may find it easier to add `sent.text.strip()` to your list of sentences.  Print the summary (I would cleanly generate the summary text by `join`ing the strings in your list together with a space (`' '.join(sentence_list)`)."
   ]
  },
  {
   "cell_type": "code",
   "execution_count": 26,
   "metadata": {},
   "outputs": [],
   "source": [
    "def token_score_list(sentence, interesting_token):\n",
    "    sentences = list(sentence.sents)\n",
    "    scores = list()\n",
    "    sentence_list = list()\n",
    "    for sentence in sentences:\n",
    "        word_count_t = 0\n",
    "        count_t = 0\n",
    "        for word in sentence:\n",
    "            if not(word.is_space or word.is_punct):\n",
    "                word_count_t += 1\n",
    "        for token in sentence:\n",
    "            if token.lemma_.lower() in frequent_tokens:\n",
    "                count_t += 1\n",
    "        if count_t != 0:\n",
    "            token_score = count_t/word_count_t\n",
    "        else:\n",
    "            token_score = 0\n",
    "        if token_score > 0.0025:\n",
    "            sentence_list.append(sentence)\n",
    "    return sentence_list"
   ]
  },
  {
   "cell_type": "code",
   "execution_count": 27,
   "metadata": {},
   "outputs": [
    {
     "data": {
      "text/plain": [
       "[NurPhoto/NurPhoto via Getty Images\n",
       "             \n",
       "         \n",
       "     \n",
       " \n",
       "    \n",
       "    People are singing their last birdsongs on Twitter, as some brace for what they fear will be a final farewell to the platform whose workforce has shrunk dramatically in the few weeks it's been owned by billionaire Elon Musk.   ,\n",
       " Untangling Disinformation \n",
       "             Twitter employees quit in droves after Elon Musk's ultimatum passes\n",
       "          \n",
       "          \n",
       " \n",
       "       \n",
       "       \n",
       " \n",
       "    \n",
       "    \n",
       " \n",
       "    Plus, there are concerns about the platform's capacity to handle traffic during big events, such as the World Cup kicking off this weekend.   ,\n",
       " While the platform is still functioning, many warn features may deteriorate as the site is run by a threadbare team.   ,\n",
       " With security, engineering and content moderation teams gutted, the platform is also more vulnerable to hacks and abuse.   ,\n",
       " Twitter is a platform that is \"so complicated that truly nobody understands how it all works,\" another former employee said.]"
      ]
     },
     "execution_count": 27,
     "metadata": {},
     "output_type": "execute_result"
    }
   ],
   "source": [
    "token_score_list(doc, frequent_tokens)"
   ]
  },
  {
   "cell_type": "markdown",
   "metadata": {},
   "source": [
    "## Question 9"
   ]
  },
  {
   "cell_type": "markdown",
   "metadata": {},
   "source": [
    "9. Print the polarity score of your summary you generated with the token scores (with an appropriate label). Additionally, print the number of sentences in the summarized article."
   ]
  },
  {
   "cell_type": "code",
   "execution_count": 28,
   "metadata": {},
   "outputs": [],
   "source": [
    "token_summary = str(token_score_list(doc, frequent_tokens))"
   ]
  },
  {
   "cell_type": "code",
   "execution_count": 29,
   "metadata": {},
   "outputs": [
    {
     "name": "stdout",
     "output_type": "stream",
     "text": [
      "Sentiment Analysis: [(['last'], 0.0, 0.06666666666666667, None), (['final'], 0.0, 1.0, None), (['few'], -0.2, 0.1, None), (['big'], 0.0, 0.1, None), (['such'], 0.0, 0.5, None), (['many'], 0.5, 0.5, None), (['more'], 0.5, 0.5, None), (['vulnerable'], -0.5, 0.5, None), (['complicated'], -0.5, 1.0, None), (['former'], 0.0, 0.0, None)]\n"
     ]
    }
   ],
   "source": [
    "doc_token = nlp(token_summary)\n",
    "print(\"Sentiment Analysis:\", doc_token._.blob.sentiment_assessments.assessments)"
   ]
  },
  {
   "cell_type": "markdown",
   "metadata": {},
   "source": [
    "### Polarity Score"
   ]
  },
  {
   "cell_type": "code",
   "execution_count": 30,
   "metadata": {},
   "outputs": [
    {
     "name": "stdout",
     "output_type": "stream",
     "text": [
      "Polarity Score: -0.019999999999999997\n"
     ]
    }
   ],
   "source": [
    "print(\"Polarity Score:\", doc_token._.blob.polarity)"
   ]
  },
  {
   "cell_type": "markdown",
   "metadata": {},
   "source": [
    "### Number of Sentences"
   ]
  },
  {
   "cell_type": "code",
   "execution_count": 31,
   "metadata": {},
   "outputs": [
    {
     "name": "stdout",
     "output_type": "stream",
     "text": [
      "Number of Sentences: 7\n"
     ]
    }
   ],
   "source": [
    "sentence_token_summary = [[token.text for token in sent] for sent in doc_token.sents]\n",
    "print(\"Number of Sentences:\", len(sentence_token_summary))"
   ]
  },
  {
   "cell_type": "markdown",
   "metadata": {},
   "source": [
    "## Question 10"
   ]
  },
  {
   "cell_type": "markdown",
   "metadata": {},
   "source": [
    "10. Create a summary of the article by going through every sentence in the article and adding it to an (initially) empty list if its score (based on lemmas) is greater than the cutoff score you identified in question 8.  If your loop variable is named `sent`, you may find it easier to add `sent.text.strip()` to your list of sentences.  Print the summary (I would cleanly generate the summary text by `join`ing the strings in your list together with a space (`' '.join(sentence_list)`)."
   ]
  },
  {
   "cell_type": "code",
   "execution_count": 32,
   "metadata": {},
   "outputs": [],
   "source": [
    "def lemma_score_list(sentence, interesting_lemmas):\n",
    "    sentences = list(sentence.sents)\n",
    "    scores = list()\n",
    "    sentence_l_list = list()\n",
    "    for sentence in sentences:\n",
    "        word_count_l = 0\n",
    "        count_l = 0\n",
    "        for word in sentence:\n",
    "            if not(word.is_space or word.is_punct):\n",
    "                word_count_l += 1\n",
    "        for lemma in sentence:\n",
    "            if lemma.lemma_.lower() in frequent_lemmas:\n",
    "                count_l += 1\n",
    "        if count_l != 0:\n",
    "            lemma_score = count_l/word_count_l\n",
    "        else:\n",
    "            lemma_score = 0\n",
    "        if lemma_score > 0.1:\n",
    "            sentence_l_list.append(sentence)\n",
    "    return sentence_l_list"
   ]
  },
  {
   "cell_type": "code",
   "execution_count": 33,
   "metadata": {},
   "outputs": [
    {
     "data": {
      "text/plain": [
       "[NurPhoto/NurPhoto via Getty Images\n",
       "                     \n",
       "                 \n",
       "                 hide caption\n",
       "             \n",
       "         \n",
       " \n",
       " \n",
       "             toggle caption\n",
       "     \n",
       " \n",
       "     \n",
       "         \n",
       "         NurPhoto/NurPhoto via Getty Images\n",
       "         \n",
       "     \n",
       " \n",
       " \n",
       "     \n",
       "         \n",
       "             \n",
       "             \n",
       "             \n",
       "         \n",
       "     \n",
       " \n",
       " \n",
       "     \n",
       "         The departures of thousands of Twitter workers is raising fears about the stability of the influential social media site under new owner Elon Musk.\n",
       "         \n",
       "             \n",
       "             ,\n",
       " Some former employees who chose not to sign onto Musk's new vision took to Twitter to explain their decisions.   ,\n",
       " Nothing more than what anyone can see on Twitter.,\n",
       " Yet the load that creates on Twitter's systems could become a tipping point, the former employee said.   ,\n",
       " Twitter saw a surge in racist and antisemitic tweets following Musk's takeover.,\n",
       " Musk framed his interest in buying Twitter in the first place as being about increasing free speech.,\n",
       " Twitter is a platform that is \"so complicated that truly nobody understands how it all works,\" another former employee said.]"
      ]
     },
     "execution_count": 33,
     "metadata": {},
     "output_type": "execute_result"
    }
   ],
   "source": [
    "lemma_score_list(doc, frequent_lemmas)"
   ]
  },
  {
   "cell_type": "markdown",
   "metadata": {},
   "source": [
    "## Question 11"
   ]
  },
  {
   "cell_type": "markdown",
   "metadata": {},
   "source": [
    "11. Print the polarity score of your summary you generated with the lemma scores (with an appropriate label). Additionally, print the number of sentences in the summarized article."
   ]
  },
  {
   "cell_type": "code",
   "execution_count": 34,
   "metadata": {},
   "outputs": [],
   "source": [
    "lemma_summary = str(lemma_score_list(doc, frequent_lemmas))"
   ]
  },
  {
   "cell_type": "code",
   "execution_count": 35,
   "metadata": {},
   "outputs": [
    {
     "name": "stdout",
     "output_type": "stream",
     "text": [
      "Sentiment Analysis: [(['social'], 0.03333333333333333, 0.06666666666666667, None), (['new'], 0.13636363636363635, 0.45454545454545453, None), (['former'], 0.0, 0.0, None), (['new'], 0.13636363636363635, 0.45454545454545453, None), (['more'], 0.5, 0.5, None), (['former'], 0.0, 0.0, None), (['following'], 0.0, 0.1, None), (['first'], 0.25, 0.3333333333333333, None), (['free'], 0.4, 0.8, None), (['complicated'], -0.5, 1.0, None), (['former'], 0.0, 0.0, None)]\n"
     ]
    }
   ],
   "source": [
    "doc_lemma = nlp(lemma_summary)\n",
    "print(\"Sentiment Analysis:\", doc_lemma._.blob.sentiment_assessments.assessments)"
   ]
  },
  {
   "cell_type": "markdown",
   "metadata": {},
   "source": [
    "### Polarity Score"
   ]
  },
  {
   "cell_type": "code",
   "execution_count": 36,
   "metadata": {},
   "outputs": [
    {
     "name": "stdout",
     "output_type": "stream",
     "text": [
      "Polarity Score: 0.08691460055096419\n"
     ]
    }
   ],
   "source": [
    "print(\"Polarity Score:\", doc_lemma._.blob.polarity)"
   ]
  },
  {
   "cell_type": "markdown",
   "metadata": {},
   "source": [
    "### Number of Sentences"
   ]
  },
  {
   "cell_type": "code",
   "execution_count": 37,
   "metadata": {},
   "outputs": [
    {
     "name": "stdout",
     "output_type": "stream",
     "text": [
      "Number of Sentences: 6\n"
     ]
    }
   ],
   "source": [
    "sentence_lemma_summary = [[lemma.text for lemma in sent] for sent in doc_lemma.sents]\n",
    "print(\"Number of Sentences:\", len(sentence_lemma_summary))"
   ]
  },
  {
   "cell_type": "markdown",
   "metadata": {},
   "source": [
    "## Question 12"
   ]
  },
  {
   "cell_type": "markdown",
   "metadata": {},
   "source": [
    "12.  Compare your polarity scores of your summaries to the polarity scores of the initial article.  Is there a difference?  Why do you think that may or may not be?.  Answer in this Markdown cell.  \n",
    "The Polarity Score of the original article is 0.004210214388785822.\n",
    "The Polarity Score of the token summary is -0.019999999999999997.\n",
    "The Polarity Score of the lemma summary is 0.08691460055096419.\n",
    "All of these scores are very close to neutral. However, the key difference is that the original article and the lemma summary had very low but still positive scores, while the toekn summary had a very low but negative score. Since the summaries were based on filtering out sentences containing the most frequent tokens and lemmas, there were less sentences to analyze, meaning that the sentiment/polarity can easily be swayed positively or negatively, as the score of each individual word can have more weight when there are fewer total words in the article. Additionally, this article is about a currently hot topic, meaning that the key tokens/lemmas (Twitter, Elon, etc.) are likely to be included in somewhat sensationalized sentences. I think that this can sway the scores to be more negative. Adjusting the cutoff scores I derived from the plots in questions 5 and 6 would likely have a large impact on these scores, as allowing more sentences into the summaries could allow the results to be swayed further. I find it interesting that the frequent lemmas are more likely to pick up unimportant words like \"say\", while the frequent tokens are more likely to contain proper nouns and other words that have some emotion or opinion behind them."
   ]
  },
  {
   "cell_type": "markdown",
   "metadata": {},
   "source": [
    "## Question 13"
   ]
  },
  {
   "cell_type": "markdown",
   "metadata": {},
   "source": [
    "13. Based on your reading of the original article, which summary do you think is better (if there's a difference).  Why do you think this might be?"
   ]
  },
  {
   "cell_type": "markdown",
   "metadata": {},
   "source": [
    "My overall understanding of the article was that it was rather negative, so I think the token summary is a better reflection of my interpreted sentiment of the article. It appears that the frequent tokens included more proper nouns (specifically names), while the frequent lemmas were more broad (likely interpreting the name Musk as an adjective as opposed to a proper noun). I think that the use of the frequent tokens/proper nouns were included in rather sensationalized sentences, meaning that the token sentiment analysis likely picked up more sensationalized (and therefore negative) sentences in general."
   ]
  }
 ],
 "metadata": {
  "kernelspec": {
   "display_name": "Python 3 (ipykernel)",
   "language": "python",
   "name": "python3"
  },
  "language_info": {
   "codemirror_mode": {
    "name": "ipython",
    "version": 3
   },
   "file_extension": ".py",
   "mimetype": "text/x-python",
   "name": "python",
   "nbconvert_exporter": "python",
   "pygments_lexer": "ipython3",
   "version": "3.9.12"
  }
 },
 "nbformat": 4,
 "nbformat_minor": 4
}
