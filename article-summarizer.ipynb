{
 "cells": [
  {
   "cell_type": "markdown",
   "metadata": {},
   "source": [
    "# Web Mining and Applied NLP (44-620)\n",
    "\n",
    "## Final Project: Article Summarizer\n",
    "\n",
    "### Student Name: Zach Fuller\n",
    "\n",
    "Perform the tasks described in the Markdown cells below.  When you have completed the assignment make sure your code cells have all been run (and have output beneath them) and ensure you have committed and pushed ALL of your changes to your assignment repository.\n",
    "\n",
    "You should bring in code from previous assignments to help you answer the questions below.\n",
    "\n",
    "Every question that requires you to write code will have a code cell underneath it; you may either write your entire solution in that cell or write it in a python file (`.py`), then import and run the appropriate code to answer the question."
   ]
  },
  {
   "cell_type": "markdown",
   "metadata": {},
   "source": [
    "## GitHub Repo: https://github.com/HundredDucks/44620_Module7"
   ]
  },
  {
   "cell_type": "markdown",
   "metadata": {},
   "source": [
    "## Question 1"
   ]
  },
  {
   "cell_type": "markdown",
   "metadata": {},
   "source": [
    "1. Find on the internet an article or blog post about a topic that interests you and you are able to get the text for using the technologies we have applied in the course.  Get the html for the article and store it in a file (which you must submit with your project)"
   ]
  },
  {
   "cell_type": "code",
   "execution_count": 1,
   "metadata": {},
   "outputs": [],
   "source": [
    "#import modules needed for this assignment first\n",
    "import requests\n",
    "from bs4 import BeautifulSoup\n",
    "import pickle\n",
    "import spacy\n",
    "from spacytextblob.spacytextblob import SpacyTextBlob\n",
    "from collections import Counter\n",
    "import numpy as np\n",
    "import matplotlib as mpl\n",
    "import matplotlib.pyplot as plt"
   ]
  },
  {
   "cell_type": "code",
   "execution_count": 2,
   "metadata": {},
   "outputs": [],
   "source": [
    "r = requests.get('https://www.npr.org/2022/11/18/1137819206/twitter-shutting-down-likelihood')\n",
    "\n",
    "with open('twitter_article.pkl', 'wb') as f:\n",
    "    pickle.dump(r.text, f)"
   ]
  },
  {
   "cell_type": "markdown",
   "metadata": {},
   "source": [
    "## Question 2"
   ]
  },
  {
   "cell_type": "markdown",
   "metadata": {},
   "source": [
    "2. Read in your article's html source from the file you created in question 1 and do sentiment analysis on the article/post's text (use `.get_text()`).  Print the polarity score with an appropriate label.  Additionally print the number of sentences in the original article (with an appropriate label)"
   ]
  },
  {
   "cell_type": "code",
   "execution_count": 3,
   "metadata": {},
   "outputs": [],
   "source": [
    "with open('twitter_article.pkl', 'rb') as f:\n",
    "    article_html = pickle.load(f)"
   ]
  },
  {
   "cell_type": "code",
   "execution_count": 4,
   "metadata": {},
   "outputs": [],
   "source": [
    "soup = BeautifulSoup(article_html, 'html5lib')"
   ]
  },
  {
   "cell_type": "code",
   "execution_count": 5,
   "metadata": {},
   "outputs": [],
   "source": [
    "article_content = soup.find('article')"
   ]
  },
  {
   "cell_type": "code",
   "execution_count": 22,
   "metadata": {},
   "outputs": [],
   "source": [
    "#confirming that the right section of the article was retrieved. The whole article is in here, as well as some embeded images. Not sure how to ignore those?\n",
    "#print(article_content.get_text())"
   ]
  },
  {
   "cell_type": "code",
   "execution_count": 14,
   "metadata": {},
   "outputs": [
    {
     "data": {
      "text/plain": [
       "<spacytextblob.spacytextblob.SpacyTextBlob at 0x15bdc94bee0>"
      ]
     },
     "execution_count": 14,
     "metadata": {},
     "output_type": "execute_result"
    }
   ],
   "source": [
    "nlp = spacy.load('en_core_web_sm')\n",
    "nlp.add_pipe('spacytextblob')"
   ]
  },
  {
   "cell_type": "code",
   "execution_count": 23,
   "metadata": {},
   "outputs": [
    {
     "name": "stdout",
     "output_type": "stream",
     "text": [
      "Sentiment Analysis: [(['likely'], 0.0, 1.0, None), (['complete'], 0.1, 0.4, None), (['likely'], 0.0, 1.0, None), (['complete'], 0.1, 0.4, None), (['more'], 0.5, 0.5, None), (['social'], 0.03333333333333333, 0.06666666666666667, None), (['new'], 0.13636363636363635, 0.45454545454545453, None), (['social'], 0.03333333333333333, 0.06666666666666667, None), (['new'], 0.13636363636363635, 0.45454545454545453, None), (['last'], 0.0, 0.06666666666666667, None), (['final'], 0.0, 1.0, None), (['few'], -0.2, 0.1, None), (['unlikely'], -0.5, 0.5, None), (['down'], -0.15555555555555559, 0.2888888888888889, None), (['entirely'], 0.0, 0.625, None), (['big'], 0.0, 0.1, None), (['such'], 0.0, 0.5, None), (['more'], 0.5, 0.5, None), (['new'], 0.13636363636363635, 0.45454545454545453, None), (['fresh'], 0.3, 0.5, None), (['half'], -0.16666666666666666, 0.16666666666666666, None), (['publicly'], 0.0, 0.06666666666666667, None), (['possible'], 0.0, 1.0, None), (['former'], 0.0, 0.0, None), (['new'], 0.13636363636363635, 0.45454545454545453, None), (['left'], 0.0, 0.0, None), (['previously'], -0.16666666666666666, 0.16666666666666666, None), (['honest'], 0.6, 0.9, None), (['clear'], 0.10000000000000002, 0.3833333333333333, None), (['future'], 0.0, 0.125, None), (['only'], 0.0, 1.0, None), (['more'], 0.5, 0.5, None), (['allegedly'], -0.1, 0.1, None), (['blind'], -0.5, 0.6666666666666666, None), (['pure'], 0.21428571428571427, 0.5, None), (['early'], 0.1, 0.3, None), (['personal'], 0.0, 0.3, None), (['former'], 0.0, 0.0, None), (['many'], 0.5, 0.5, None), (['many'], 0.5, 0.5, None), (['other'], -0.125, 0.375, None), (['former'], 0.0, 0.0, None), (['hard'], -0.2916666666666667, 0.5416666666666666, None), (['filled'], 0.4, 0.9, None), (['minor'], -0.05, 0.2, None), (['failure'], -0.3166666666666667, 0.3, None), (['enough'], 0.0, 0.5, None), (['public'], 0.0, 0.06666666666666667, None), (['following'], 0.0, 0.1, None), (['many'], 0.5, 0.5, None), (['illegal'], -0.5, 0.5, None), (['first'], 0.25, 0.3333333333333333, None), (['free'], 0.4, 0.8, None), (['previously'], -0.16666666666666666, 0.16666666666666666, None), (['hate'], -0.8, 0.9, None), (['late'], -0.3, 0.6, None), (['legal'], 0.2, 0.2, None), (['own'], 0.6, 1.0, None), (['engaging'], 0.4, 0.7, None), (['clearly'], 0.10000000000000002, 0.3833333333333333, None), (['abruptly'], -0.125, 1.0, None), (['quickly'], 0.3333333333333333, 0.5, None), (['left'], 0.0, 0.0, None), (['redundant'], -0.2, 0.2, None), (['unilateral'], -0.5, 0.7, None), (['little'], -0.1875, 0.5, None), (['former'], 0.0, 0.0, None), (['earlier'], 0.0, 0.5, None), (['new'], 0.13636363636363635, 0.45454545454545453, None), (['more'], 0.5, 0.5, None), (['vulnerable'], -0.5, 0.5, None), (['complicated'], -0.5, 1.0, None), (['former'], 0.0, 0.0, None), (['bad'], -0.6999999999999998, 0.6666666666666666, None), (['worse'], -0.4, 0.6, None), (['social'], 0.03333333333333333, 0.06666666666666667, None)]\n"
     ]
    }
   ],
   "source": [
    "doc = nlp(article_content.get_text())\n",
    "print(\"Sentiment Analysis:\", doc._.blob.sentiment_assessments.assessments)"
   ]
  },
  {
   "cell_type": "markdown",
   "metadata": {},
   "source": [
    "### Polarity Score"
   ]
  },
  {
   "cell_type": "code",
   "execution_count": 24,
   "metadata": {},
   "outputs": [
    {
     "name": "stdout",
     "output_type": "stream",
     "text": [
      "Polarity Score: 0.013526951849320273\n"
     ]
    }
   ],
   "source": [
    "print(\"Polarity Score:\", doc._.blob.polarity)"
   ]
  },
  {
   "cell_type": "markdown",
   "metadata": {},
   "source": [
    "### Number of Sentences"
   ]
  },
  {
   "cell_type": "code",
   "execution_count": 34,
   "metadata": {},
   "outputs": [
    {
     "name": "stdout",
     "output_type": "stream",
     "text": [
      "Total Number of lines: 729\n"
     ]
    }
   ],
   "source": [
    "#wasn't quite sure the best way to do this, so had to do some Googling. Came upon something similar to this, seemed to work well.\n",
    "with open(r\"twitter_article.pkl\", 'r') as fp:\n",
    "    lines = len(fp.readlines())\n",
    "    print('Total Number of lines:', lines)"
   ]
  },
  {
   "cell_type": "markdown",
   "metadata": {},
   "source": [
    "## Question 3"
   ]
  },
  {
   "cell_type": "markdown",
   "metadata": {},
   "source": [
    "3. Load the article text into a trained `spaCy` pipeline, and determine the 5 most frequent tokens (converted to lower case).  Print the common tokens with an appropriate label.  Additionally, print the tokens their frequencies (with appropriate labels)"
   ]
  },
  {
   "cell_type": "code",
   "execution_count": 35,
   "metadata": {},
   "outputs": [],
   "source": [
    "def we_care_about(token):\n",
    "    return not (token.is_space or token.is_punct or token.is_stop)"
   ]
  },
  {
   "cell_type": "code",
   "execution_count": 36,
   "metadata": {},
   "outputs": [
    {
     "name": "stdout",
     "output_type": "stream",
     "text": [
      "The 5 most common tokens are [('twitter', 27), ('musk', 12), ('nurphoto', 6), ('elon', 5), ('platform', 5)]\n"
     ]
    }
   ],
   "source": [
    "interesting_tokens = [token for token in doc if we_care_about(token)]\n",
    "word_freq = Counter(map(str,interesting_tokens))\n",
    "print(\"The 5 most common tokens are \" + str(word_freq.most_common(5)).lower())"
   ]
  },
  {
   "cell_type": "markdown",
   "metadata": {},
   "source": [
    "## Question 4"
   ]
  },
  {
   "cell_type": "markdown",
   "metadata": {},
   "source": [
    "4. Load the article text into a trained `spaCy` pipeline, and determine the 5 most frequent lemmas (converted to lower case).  Print the common lemmas with an appropriate label.  Additionally, print the lemmas with their frequencies (with appropriate labels)."
   ]
  },
  {
   "cell_type": "code",
   "execution_count": 37,
   "metadata": {},
   "outputs": [
    {
     "name": "stdout",
     "output_type": "stream",
     "text": [
      "The 5 most common lemmas and their counts are [('twitter', 27), ('musk', 12), ('employee', 10), ('nurphoto', 6), ('say', 6)]\n"
     ]
    }
   ],
   "source": [
    "interesting_lemmas = [token.lemma_.lower() for token in doc if we_care_about(token)]\n",
    "lemma_freq = Counter(interesting_lemmas)\n",
    "print(\"The 5 most common lemmas and their counts are \" + str(lemma_freq.most_common(5)))"
   ]
  },
  {
   "cell_type": "markdown",
   "metadata": {},
   "source": [
    "## Question 5"
   ]
  },
  {
   "cell_type": "markdown",
   "metadata": {},
   "source": [
    "5. Make a list containing the scores (using tokens) of every sentence in the article, and plot a histogram with appropriate titles and axis labels of the scores. From your histogram, what seems to be the most common range of scores (put the answer in a comment after your code)?"
   ]
  },
  {
   "cell_type": "code",
   "execution_count": 40,
   "metadata": {},
   "outputs": [
    {
     "name": "stdout",
     "output_type": "stream",
     "text": [
      "{'Elon', 'Musk', 'NurPhoto', 'platform', 'Twitter'}\n"
     ]
    }
   ],
   "source": [
    "frequent_tokens = set()\n",
    "for token, freq in word_freq.most_common(5):\n",
    "    frequent_tokens.add(token)\n",
    "print(frequent_tokens)"
   ]
  },
  {
   "cell_type": "code",
   "execution_count": 41,
   "metadata": {},
   "outputs": [],
   "source": [
    "def token_list(sentence, interesting_token):\n",
    "    sentences = list(sentence.sents)\n",
    "    scores = list()\n",
    "    for sentence in sentences:\n",
    "        word_count_t = 0\n",
    "        count_t = 0\n",
    "        for word in sentence:\n",
    "            if not(word.is_space or word.is_punct):\n",
    "                word_count_t += 1\n",
    "        for token in sentence:\n",
    "            if token.lemma_.lower() in frequent_tokens:\n",
    "                count_t += 1\n",
    "        if count_t != 0:\n",
    "            token_score = count_t/word_count_t\n",
    "        else:\n",
    "            token_score = 0\n",
    "        scores.append(token_score)\n",
    "    return scores"
   ]
  },
  {
   "cell_type": "code",
   "execution_count": 43,
   "metadata": {},
   "outputs": [],
   "source": [
    "tokens_data = token_list(doc, frequent_tokens)"
   ]
  },
  {
   "cell_type": "code",
   "execution_count": 44,
   "metadata": {},
   "outputs": [
    {
     "data": {
      "text/plain": [
       "[Text(0.5, 0, 'Score'),\n",
       " Text(0, 0.5, 'Frequency'),\n",
       " Text(0.5, 1.0, 'Frequency of Token Scores per Sentence')]"
      ]
     },
     "execution_count": 44,
     "metadata": {},
     "output_type": "execute_result"
    },
    {
     "data": {
      "image/png": "[encoded data removed]",
      "text/plain": [
       "<Figure size 1080x648 with 1 Axes>"
      ]
     },
     "metadata": {
      "needs_background": "light"
     },
     "output_type": "display_data"
    }
   ],
   "source": [
    "fig, ax = plt.subplots(figsize=(15, 9))\n",
    "ax.hist(tokens_data, bins=25)\n",
    "ax.set(xlabel='Score', ylabel='Frequency', title='Frequency of Token Scores per Sentence')"
   ]
  },
  {
   "cell_type": "code",
   "execution_count": 45,
   "metadata": {},
   "outputs": [],
   "source": [
    "#The most common token score range seems to be about 0 - 0.0025"
   ]
  },
  {
   "cell_type": "markdown",
   "metadata": {},
   "source": [
    "## Question 6"
   ]
  },
  {
   "cell_type": "markdown",
   "metadata": {},
   "source": [
    "6. Make a list containing the scores (using lemmas) of every sentence in the article, and plot a histogram with appropriate titles and axis labels of the scores.  From your histogram, what seems to be the most common range of scores (put the answer in a comment after your code)?"
   ]
  },
  {
   "cell_type": "code",
   "execution_count": 46,
   "metadata": {},
   "outputs": [
    {
     "name": "stdout",
     "output_type": "stream",
     "text": [
      "{'musk', 'say', 'employee', 'twitter', 'nurphoto'}\n"
     ]
    }
   ],
   "source": [
    "frequent_lemmas = set()\n",
    "for lemma, freq in lemma_freq.most_common(5):\n",
    "    frequent_lemmas.add(lemma)\n",
    "print(frequent_lemmas)"
   ]
  },
  {
   "cell_type": "code",
   "execution_count": 47,
   "metadata": {},
   "outputs": [],
   "source": [
    "def lemma_list(sentence, interesting_lemmas):\n",
    "    sentences = list(sentence.sents)\n",
    "    scores = list()\n",
    "    for sentence in sentences:\n",
    "        word_count_l = 0\n",
    "        count_l = 0\n",
    "        for word in sentence:\n",
    "            if not(word.is_space or word.is_punct):\n",
    "                word_count_l += 1\n",
    "        for lemma in sentence:\n",
    "            if lemma.lemma_.lower() in frequent_lemmas:\n",
    "                count_l += 1\n",
    "        if count_l != 0:\n",
    "            lemma_score = count_l/word_count_l\n",
    "        else:\n",
    "            lemma_score = 0\n",
    "        scores.append(lemma_score)\n",
    "    return scores"
   ]
  },
  {
   "cell_type": "code",
   "execution_count": 48,
   "metadata": {},
   "outputs": [],
   "source": [
    "lemmas_data = lemma_list(doc, frequent_lemmas)"
   ]
  },
  {
   "cell_type": "code",
   "execution_count": 49,
   "metadata": {},
   "outputs": [
    {
     "data": {
      "text/plain": [
       "[Text(0.5, 0, 'Score'),\n",
       " Text(0, 0.5, 'Frequency'),\n",
       " Text(0.5, 1.0, 'Frequency of Lemma Scores per Sentence')]"
      ]
     },
     "execution_count": 49,
     "metadata": {},
     "output_type": "execute_result"
    },
    {
     "data": {
      "image/png": "[encoded data removed]",
      "text/plain": [
       "<Figure size 1080x648 with 1 Axes>"
      ]
     },
     "metadata": {
      "needs_background": "light"
     },
     "output_type": "display_data"
    }
   ],
   "source": [
    "fig, ax = plt.subplots(figsize=(15, 9))\n",
    "ax.hist(lemmas_data, bins=25)\n",
    "ax.set(xlabel='Score', ylabel='Frequency', title='Frequency of Lemma Scores per Sentence')"
   ]
  },
  {
   "cell_type": "code",
   "execution_count": 50,
   "metadata": {},
   "outputs": [],
   "source": [
    "#The most common score range seems to be about 0 - 0.01"
   ]
  },
  {
   "cell_type": "markdown",
   "metadata": {},
   "source": [
    "## Question 7"
   ]
  },
  {
   "cell_type": "markdown",
   "metadata": {},
   "source": [
    "7. Using the histograms from questions 5 and 6, decide a \"cutoff\" score for tokens and lemmas such that fewer than half the sentences would have a score greater than the cutoff score.  Record the scores in this Markdown cell\n",
    "\n",
    "* Cutoff Score (tokens): \n",
    "* Cutoff Score (lemmas):\n",
    "\n",
    "Feel free to change these scores as you generate your summaries.  Ideally, we're shooting for at least 6 sentences for our summary, but don't want more than 10 (these numbers are rough estimates; they depend on the length of your article)."
   ]
  },
  {
   "cell_type": "code",
   "execution_count": 167,
   "metadata": {},
   "outputs": [],
   "source": [
    "#The Cutoff Score for tokens: Likely around 0.002\n",
    "#The Cutoff Score for lemmas: I initially thought it would be around 0.05, but after working on question 10, I found 0.15 to be more suitable to give me an appropriate line count"
   ]
  },
  {
   "cell_type": "markdown",
   "metadata": {},
   "source": [
    "## Question 8"
   ]
  },
  {
   "cell_type": "markdown",
   "metadata": {},
   "source": [
    "8. Create a summary of the article by going through every sentence in the article and adding it to an (initially) empty list if its score (based on tokens) is greater than the cutoff score you identified in question 8.  If your loop variable is named `sent`, you may find it easier to add `sent.text.strip()` to your list of sentences.  Print the summary (I would cleanly generate the summary text by `join`ing the strings in your list together with a space (`' '.join(sentence_list)`)."
   ]
  },
  {
   "cell_type": "code",
   "execution_count": 156,
   "metadata": {},
   "outputs": [],
   "source": [
    "def token_score_list(sentence, interesting_token):\n",
    "    sentences = list(sentence.sents)\n",
    "    scores = list()\n",
    "    sentence_list = list()\n",
    "    for sentence in sentences:\n",
    "        word_count_t = 0\n",
    "        count_t = 0\n",
    "        for word in sentence:\n",
    "            if not(word.is_space or word.is_punct):\n",
    "                word_count_t += 1\n",
    "        for token in sentence:\n",
    "            if token.lemma_.lower() in frequent_tokens:\n",
    "                count_t += 1\n",
    "        if count_t != 0:\n",
    "            token_score = count_t/word_count_t\n",
    "        else:\n",
    "            token_score = 0\n",
    "        if token_score >= 0.002:\n",
    "            sentence_list.append(sentence)\n",
    "    return sentence_list"
   ]
  },
  {
   "cell_type": "code",
   "execution_count": 157,
   "metadata": {},
   "outputs": [
    {
     "data": {
      "text/plain": [
       "[NurPhoto/NurPhoto via Getty Images\n",
       "             \n",
       "         \n",
       "     \n",
       " \n",
       "    \n",
       "    People are singing their last birdsongs on Twitter, as some brace for what they fear will be a final farewell to the platform whose workforce has shrunk dramatically in the few weeks it's been owned by billionaire Elon Musk.   ,\n",
       " Untangling Disinformation \n",
       "             Twitter employees quit in droves after Elon Musk's ultimatum passes\n",
       "          \n",
       "          \n",
       " \n",
       "       \n",
       "       \n",
       " \n",
       "    \n",
       "    \n",
       " \n",
       "    Plus, there are concerns about the platform's capacity to handle traffic during big events, such as the World Cup kicking off this weekend.   ,\n",
       " While the platform is still functioning, many warn features may deteriorate as the site is run by a threadbare team.   ,\n",
       " With security, engineering and content moderation teams gutted, the platform is also more vulnerable to hacks and abuse.   ,\n",
       " Twitter is a platform that is \"so complicated that truly nobody understands how it all works,\" another former employee said.]"
      ]
     },
     "execution_count": 157,
     "metadata": {},
     "output_type": "execute_result"
    }
   ],
   "source": [
    "token_score_list(doc, frequent_tokens)"
   ]
  },
  {
   "cell_type": "markdown",
   "metadata": {},
   "source": [
    "## Question 9"
   ]
  },
  {
   "cell_type": "markdown",
   "metadata": {},
   "source": [
    "9. Print the polarity score of your summary you generated with the token scores (with an appropriate label). Additionally, print the number of sentences in the summarized article."
   ]
  },
  {
   "cell_type": "code",
   "execution_count": 158,
   "metadata": {},
   "outputs": [],
   "source": [
    "token_summary = str(token_score_list(doc, frequent_tokens))"
   ]
  },
  {
   "cell_type": "code",
   "execution_count": 159,
   "metadata": {},
   "outputs": [
    {
     "name": "stdout",
     "output_type": "stream",
     "text": [
      "Sentiment Analysis: [(['last'], 0.0, 0.06666666666666667, None), (['final'], 0.0, 1.0, None), (['few'], -0.2, 0.1, None), (['big'], 0.0, 0.1, None), (['such'], 0.0, 0.5, None), (['many'], 0.5, 0.5, None), (['more'], 0.5, 0.5, None), (['vulnerable'], -0.5, 0.5, None), (['complicated'], -0.5, 1.0, None), (['former'], 0.0, 0.0, None)]\n"
     ]
    }
   ],
   "source": [
    "doc_token = nlp(token_summary)\n",
    "print(\"Sentiment Analysis:\", doc_token._.blob.sentiment_assessments.assessments)"
   ]
  },
  {
   "cell_type": "markdown",
   "metadata": {},
   "source": [
    "### Polarity Score"
   ]
  },
  {
   "cell_type": "code",
   "execution_count": 160,
   "metadata": {},
   "outputs": [
    {
     "name": "stdout",
     "output_type": "stream",
     "text": [
      "Polarity Score: -0.019999999999999997\n"
     ]
    }
   ],
   "source": [
    "print(\"Polarity Score:\", doc_token._.blob.polarity)"
   ]
  },
  {
   "cell_type": "code",
   "execution_count": 161,
   "metadata": {},
   "outputs": [],
   "source": [
    "#I was having trouble getting a line count to work, so I just wrote the str result of the function I wrote in question 8 to a pkl file and read it in the following line\n",
    "#so that .readlines would work\n",
    "with open('question8.pkl', 'wb') as fx:\n",
    "        pickle.dump(token_summary, fx)"
   ]
  },
  {
   "cell_type": "markdown",
   "metadata": {},
   "source": [
    "### Number of Lines"
   ]
  },
  {
   "cell_type": "code",
   "execution_count": 162,
   "metadata": {},
   "outputs": [
    {
     "name": "stdout",
     "output_type": "stream",
     "text": [
      "Total Number of lines: 18\n"
     ]
    }
   ],
   "source": [
    "with open(r\"question8.pkl\", 'r') as fp:\n",
    "    lines_token_summary = len(fp.readlines())\n",
    "    print('Total Number of lines:', lines_token_summary)"
   ]
  },
  {
   "cell_type": "markdown",
   "metadata": {},
   "source": [
    "## Question 10"
   ]
  },
  {
   "cell_type": "markdown",
   "metadata": {},
   "source": [
    "10. Create a summary of the article by going through every sentence in the article and adding it to an (initially) empty list if its score (based on lemmas) is greater than the cutoff score you identified in question 8.  If your loop variable is named `sent`, you may find it easier to add `sent.text.strip()` to your list of sentences.  Print the summary (I would cleanly generate the summary text by `join`ing the strings in your list together with a space (`' '.join(sentence_list)`)."
   ]
  },
  {
   "cell_type": "code",
   "execution_count": 165,
   "metadata": {},
   "outputs": [],
   "source": [
    "def lemma_score_list(sentence, interesting_lemmas):\n",
    "    sentences = list(sentence.sents)\n",
    "    scores = list()\n",
    "    sentence_l_list = list()\n",
    "    for sentence in sentences:\n",
    "        word_count_l = 0\n",
    "        count_l = 0\n",
    "        for word in sentence:\n",
    "            if not(word.is_space or word.is_punct):\n",
    "                word_count_l += 1\n",
    "        for lemma in sentence:\n",
    "            if lemma.lemma_.lower() in frequent_lemmas:\n",
    "                count_l += 1\n",
    "        if count_l != 0:\n",
    "            lemma_score = count_l/word_count_l\n",
    "        else:\n",
    "            lemma_score = 0\n",
    "        if lemma_score >= 0.15:\n",
    "            sentence_l_list.append(sentence)\n",
    "    return sentence_l_list"
   ]
  },
  {
   "cell_type": "code",
   "execution_count": 166,
   "metadata": {},
   "outputs": [
    {
     "data": {
      "text/plain": [
       "[Facebook\n",
       "          Twitter\n",
       "          Flipboard\n",
       "          Email\n",
       "       \n",
       "    \n",
       "    \n",
       " \n",
       " \n",
       " \n",
       " \n",
       " \n",
       "       \n",
       "             \n",
       "     \n",
       "             November 18, 20226:56 PM ET\n",
       "     \n",
       " \n",
       "    \n",
       "    \n",
       " \n",
       "    \n",
       "             \n",
       "                   \n",
       "                         \n",
       "                               \n",
       " \n",
       "   \n",
       "     \n",
       "       Mary Yang\n",
       "     \n",
       "   \n",
       " \n",
       "     \n",
       "       Twitter\n",
       "     \n",
       "                \n",
       "     \n",
       "       \n",
       "         \n",
       "       \n",
       "     \n",
       " \n",
       "   \n",
       "     \n",
       "       Shannon Bond\n",
       "     \n",
       "   \n",
       " \n",
       "     \n",
       "       Twitter\n",
       "     \n",
       " \n",
       "             \n",
       "          \n",
       "          \n",
       " \n",
       "       \n",
       "    \n",
       "    \n",
       " \n",
       " \n",
       " \n",
       " \n",
       " \n",
       "       \n",
       "       How likely is a complete Twitter meltdown?,\n",
       " NurPhoto/NurPhoto via Getty Images\n",
       "                     \n",
       "                 \n",
       "                 hide caption\n",
       "             \n",
       "         \n",
       " \n",
       " \n",
       "             toggle caption\n",
       "     \n",
       " \n",
       "     \n",
       "         \n",
       "         NurPhoto/NurPhoto via Getty Images\n",
       "         \n",
       "     \n",
       " \n",
       " \n",
       "     \n",
       "         \n",
       "             \n",
       "             \n",
       "             \n",
       "         \n",
       "     \n",
       " \n",
       " \n",
       "     \n",
       "         The departures of thousands of Twitter workers is raising fears about the stability of the influential social media site under new owner Elon Musk.\n",
       "         \n",
       "             \n",
       "             ,\n",
       " Some former employees who chose not to sign onto Musk's new vision took to Twitter to explain their decisions.   ,\n",
       " Yet the load that creates on Twitter's systems could become a tipping point, the former employee said.   ,\n",
       " Twitter saw a surge in racist and antisemitic tweets following Musk's takeover.,\n",
       " Twitter is a platform that is \"so complicated that truly nobody understands how it all works,\" another former employee said.,\n",
       " Elon Musk\n",
       "       social media\n",
       "       Twitter\n",
       "    \n",
       " \n",
       " \n",
       " \n",
       " \n",
       "       \n",
       "             Facebook\n",
       "       Twitter\n",
       "       Flipboard\n",
       "       Email\n",
       "    \n",
       " \n",
       " \n",
       " \n",
       " \n",
       "    \n",
       " \n",
       " \n",
       " \n",
       "    \n",
       " \n",
       " \n",
       " \n",
       " ]"
      ]
     },
     "execution_count": 166,
     "metadata": {},
     "output_type": "execute_result"
    }
   ],
   "source": [
    "lemma_score_list(doc, frequent_lemmas)"
   ]
  },
  {
   "cell_type": "markdown",
   "metadata": {},
   "source": [
    "## Question 11"
   ]
  },
  {
   "cell_type": "markdown",
   "metadata": {},
   "source": [
    "11. Print the polarity score of your summary you generated with the lemma scores (with an appropriate label). Additionally, print the number of sentences in the summarized article."
   ]
  },
  {
   "cell_type": "code",
   "execution_count": 168,
   "metadata": {},
   "outputs": [],
   "source": [
    "lemma_summary = str(lemma_score_list(doc, frequent_lemmas))"
   ]
  },
  {
   "cell_type": "code",
   "execution_count": 170,
   "metadata": {},
   "outputs": [
    {
     "name": "stdout",
     "output_type": "stream",
     "text": [
      "Sentiment Analysis: [(['likely'], 0.0, 1.0, None), (['complete'], 0.1, 0.4, None), (['social'], 0.03333333333333333, 0.06666666666666667, None), (['new'], 0.13636363636363635, 0.45454545454545453, None), (['former'], 0.0, 0.0, None), (['new'], 0.13636363636363635, 0.45454545454545453, None), (['former'], 0.0, 0.0, None), (['following'], 0.0, 0.1, None), (['complicated'], -0.5, 1.0, None), (['former'], 0.0, 0.0, None), (['social'], 0.03333333333333333, 0.06666666666666667, None)]\n"
     ]
    }
   ],
   "source": [
    "doc_lemma = nlp(lemma_summary)\n",
    "print(\"Sentiment Analysis:\", doc_lemma._.blob.sentiment_assessments.assessments)"
   ]
  },
  {
   "cell_type": "markdown",
   "metadata": {},
   "source": [
    "### Polarity Score"
   ]
  },
  {
   "cell_type": "code",
   "execution_count": 171,
   "metadata": {},
   "outputs": [
    {
     "name": "stdout",
     "output_type": "stream",
     "text": [
      "Polarity Score: -0.005509641873278241\n"
     ]
    }
   ],
   "source": [
    "print(\"Polarity Score:\", doc_lemma._.blob.polarity)"
   ]
  },
  {
   "cell_type": "code",
   "execution_count": 172,
   "metadata": {},
   "outputs": [],
   "source": [
    "with open('question10.pkl', 'wb') as fx:\n",
    "        pickle.dump(lemma_summary, fx)"
   ]
  },
  {
   "cell_type": "markdown",
   "metadata": {},
   "source": [
    "### Number of Lines"
   ]
  },
  {
   "cell_type": "code",
   "execution_count": 173,
   "metadata": {},
   "outputs": [
    {
     "name": "stdout",
     "output_type": "stream",
     "text": [
      "Total Number of lines: 125\n"
     ]
    }
   ],
   "source": [
    "with open(r\"question10.pkl\", 'r') as fp:\n",
    "    lines_lemma_summary = len(fp.readlines())\n",
    "    print('Total Number of lines:', lines_lemma_summary)"
   ]
  },
  {
   "cell_type": "markdown",
   "metadata": {},
   "source": [
    "## Question 12"
   ]
  },
  {
   "cell_type": "markdown",
   "metadata": {},
   "source": [
    "12.  Compare your polarity scores of your summaries to the polarity scores of the initial article.  Is there a difference?  Why do you think that may or may not be?.  Answer in this Markdown cell.  \n",
    "The Polarity Score of the original article is 0.013526951849320273.\n",
    "The Polarity Score of the token summary is -0.019999999999999997.\n",
    "The Polarity Score of the lemma summary is -0.005509641873278241.\n",
    "All of these scores are very close to neutral. However, the key difference is that the original article had a very low but still positive score, while the summaries had a very low but negative score. Since the summaries were based on filtering out sentences containing the most frequent tokens and lemmas, there were less sentences to analyze, meaning that the sentiment/polarity can easily be swayed positively or negatively, as the score of each individual word can have more weight when there are fewer total words in the article. Additionally, this article is about a currently hot topic, meaning that the key tokens/lemmas (Twitter, Elon, etc.) are likely to be included in somewhat sensationalized sentences. I think that this can sway the scores to be more negative."
   ]
  },
  {
   "cell_type": "markdown",
   "metadata": {},
   "source": [
    "## Question 13"
   ]
  },
  {
   "cell_type": "markdown",
   "metadata": {},
   "source": [
    "13. Based on your reading of the original article, which summary do you think is better (if there's a difference).  Why do you think this might be?"
   ]
  },
  {
   "cell_type": "markdown",
   "metadata": {},
   "source": [
    "The scores for both the lemma and token summaries are similar values (-0.005 vs -0.019). However, my overall understanding of the article was that it was rather negative, so I think the token summary is a better reflection of my interpreted sentiment of the article. It appears that the frequent tokens included more proper nouns (specifically names), while the frequent lemmas were more broad (likely interpreting the name Musk as an adjective as opposed to a proper noun). I think that the use of the frequent tokens/proper nouns were included in rather sensationalized sentences, meaning that the token sentiment analysis likely picked up more sensationalized (and therefore negative) sentences in general."
   ]
  }
 ],
 "metadata": {
  "kernelspec": {
   "display_name": "Python 3 (ipykernel)",
   "language": "python",
   "name": "python3"
  },
  "language_info": {
   "codemirror_mode": {
    "name": "ipython",
    "version": 3
   },
   "file_extension": ".py",
   "mimetype": "text/x-python",
   "name": "python",
   "nbconvert_exporter": "python",
   "pygments_lexer": "ipython3",
   "version": "3.9.12"
  }
 },
 "nbformat": 4,
 "nbformat_minor": 4
}
